{
 "cells": [
  {
   "cell_type": "code",
   "execution_count": 2,
   "metadata": {
    "collapsed": true
   },
   "outputs": [],
   "source": [
    "# -*- encoding: utf-8 -*-\n",
    "import collections\n",
    "import re\n",
    "import datetime\n",
    "def parse(\n",
    "    ignore_files=False,\n",
    "    ignore_urls=[],\n",
    "    start_at=None,\n",
    "    stop_at=None,\n",
    "    request_type=None,\n",
    "    ignore_www=False,\n",
    "    slow_queries=False\n",
    "):\n",
    "\n",
    "    counts=collections.Counter()\n",
    "    times=collections.Counter()\n",
    "    def get_time(string):\n",
    "        request_date=re.search(r'(?P<day>\\d+)/(?P<month>\\w+)/(?P<year>\\d+) (?P<hour>\\d+):(?P<minute>\\d+):(?P<second>\\d+)',string)\n",
    "        if request_date:\n",
    "            request_date=datetime.datetime(int(request_date.group('year')),months[request_date.group('month')],int(request_date.group('day')),int(request_date.group('hour')),\n",
    "                                 int(request_date.group('minute')),int(request_date.group('second')))\n",
    "            return request_date\n",
    "        else:\n",
    "            return None\n",
    "    def get_code_and_time(string):\n",
    "        result=re.search(r'(?P<response_code>\\d+) (?P<response_time>\\d+)$',string)\n",
    "        if result:\n",
    "            return result.groups()\n",
    "        else:\n",
    "            return (None,None)\n",
    "    def get_params(string):\n",
    "        result=re.search(r'\"(\\w+) (.+) (.+)\"', string)\n",
    "        if result:\n",
    "            return result.groups()\n",
    "        else:\n",
    "            return (None,None,None)\n",
    "    for string in text:\n",
    "        ignore=False\n",
    "        request_date=get_time(string)\n",
    "        response_code, response_time = get_code_and_time(string)\n",
    "\n",
    "        requesttype, request, protocol = get_params(string)\n",
    "\n",
    "        if request:\n",
    "            scheme,host,path,query,fragment=re.search(r'(?P<scheme>\\w+)://(?P<host>[^/]*)(?P<path>[^?]+)*(?P<query>\\?[^#]+)*(?P<fragment>#\\w+)*',request).groups()\n",
    "            if ignore_files:\n",
    "                if '.' in path:\n",
    "                    ingnore=True\n",
    "            if request_type:\n",
    "                if request_type != requesttype:\n",
    "                    ignore=True\n",
    "            if start_at:\n",
    "                if get_time(start_at)>request_date:\n",
    "                    ignore = True\n",
    "            if stop_at:\n",
    "                if get_time(stop_at)<request_date:\n",
    "                    ignore = True\n",
    "            for i in ignore_urls:\n",
    "                if i == path:\n",
    "                    ignore=True\n",
    "                    break\n",
    "            if ignore_www:\n",
    "                host=re.search(r'www.(.+)',host).group(0)\n",
    "        else:\n",
    "            ignore = True\n",
    "        if not ignore:\n",
    "            times[host+path]+=int(response_time)\n",
    "            counts[host+path]+=1\n",
    "    for key,value in counts.items():\n",
    "        times[key]//=counts[key]\n",
    "    if slow_queries:\n",
    "        return [i[1] for i in times.most_common(5)]\n",
    "    else:\n",
    "        return [i[1] for i in counts.most_common(5)]"
   ]
  },
  {
   "cell_type": "code",
   "execution_count": 79,
   "metadata": {
    "collapsed": true
   },
   "outputs": [],
   "source": [
    "string='[18/3/2018 11:19:40] \"GET https://www.sys.mail.ru/calendar/config/254/40263/ HTTP/1.1\" 200 965'"
   ]
  },
  {
   "cell_type": "code",
   "execution_count": 80,
   "metadata": {
    "collapsed": true
   },
   "outputs": [],
   "source": [
    "months={\"Jan\":1,\"Feb\":2,'Mar':3,\"Apr\":4,'May':5,'Jun':6,'Jul':7,'Aug':8,\"Sep\":9,\"Oct\":10,'Nov':11,'Dec':12}"
   ]
  },
  {
   "cell_type": "code",
   "execution_count": null,
   "metadata": {
    "collapsed": true
   },
   "outputs": [],
   "source": []
  },
  {
   "cell_type": "code",
   "execution_count": 81,
   "metadata": {},
   "outputs": [
    {
     "ename": "ValueError",
     "evalue": "month must be in 1..12",
     "output_type": "error",
     "traceback": [
      "\u001b[1;31m---------------------------------------------------------------------------\u001b[0m",
      "\u001b[1;31mValueError\u001b[0m                                Traceback (most recent call last)",
      "\u001b[1;32m<ipython-input-81-3342e94c4b1d>\u001b[0m in \u001b[0;36m<module>\u001b[1;34m()\u001b[0m\n\u001b[1;32m----> 1\u001b[1;33m \u001b[0mdatetime\u001b[0m\u001b[1;33m.\u001b[0m\u001b[0mdatetime\u001b[0m\u001b[1;33m(\u001b[0m\u001b[1;36m2018\u001b[0m\u001b[1;33m,\u001b[0m\u001b[1;36m0\u001b[0m\u001b[1;33m,\u001b[0m\u001b[1;36m18\u001b[0m\u001b[1;33m,\u001b[0m\u001b[1;36m11\u001b[0m\u001b[1;33m,\u001b[0m\u001b[1;36m19\u001b[0m\u001b[1;33m,\u001b[0m\u001b[1;36m40\u001b[0m\u001b[1;33m)\u001b[0m\u001b[1;33m>=\u001b[0m\u001b[0mdatetime\u001b[0m\u001b[1;33m.\u001b[0m\u001b[0mdatetime\u001b[0m\u001b[1;33m(\u001b[0m\u001b[1;36m2018\u001b[0m\u001b[1;33m,\u001b[0m\u001b[1;36m3\u001b[0m\u001b[1;33m,\u001b[0m\u001b[1;36m18\u001b[0m\u001b[1;33m,\u001b[0m\u001b[1;36m11\u001b[0m\u001b[1;33m,\u001b[0m\u001b[1;36m19\u001b[0m\u001b[1;33m,\u001b[0m\u001b[1;36m41\u001b[0m\u001b[1;33m)\u001b[0m\u001b[1;33m\u001b[0m\u001b[0m\n\u001b[0m",
      "\u001b[1;31mValueError\u001b[0m: month must be in 1..12"
     ]
    }
   ],
   "source": [
    "datetime.datetime(2018,0,18,11,19,40)>=datetime.datetime(2018,3,18,11,19,41)"
   ]
  },
  {
   "cell_type": "code",
   "execution_count": 161,
   "metadata": {},
   "outputs": [
    {
     "data": {
      "text/plain": [
       "('200', '965')"
      ]
     },
     "execution_count": 161,
     "metadata": {},
     "output_type": "execute_result"
    }
   ],
   "source": [
    "a=re.search(r'(?P<response_code>\\d+) (?P<response_time>\\d+)$',string)\n",
    "a.groups()"
   ]
  },
  {
   "cell_type": "code",
   "execution_count": 149,
   "metadata": {},
   "outputs": [
    {
     "data": {
      "text/plain": [
       "()"
      ]
     },
     "execution_count": 149,
     "metadata": {},
     "output_type": "execute_result"
    }
   ],
   "source": []
  },
  {
   "cell_type": "code",
   "execution_count": 143,
   "metadata": {},
   "outputs": [
    {
     "data": {
      "text/plain": [
       "'#dsa'"
      ]
     },
     "execution_count": 143,
     "metadata": {},
     "output_type": "execute_result"
    }
   ],
   "source": [
    "a.group('fragment')"
   ]
  },
  {
   "cell_type": "code",
   "execution_count": 93,
   "metadata": {
    "collapsed": true
   },
   "outputs": [],
   "source": []
  },
  {
   "cell_type": "code",
   "execution_count": 87,
   "metadata": {},
   "outputs": [
    {
     "data": {
      "text/plain": [
       "datetime.datetime(2018, 3, 20, 11, 15)"
      ]
     },
     "execution_count": 87,
     "metadata": {},
     "output_type": "execute_result"
    }
   ],
   "source": [
    "datetime.datetime.strptime(\"20/Mar/2018 11:15\", \"%d/%b/%Y %H:%M\")"
   ]
  },
  {
   "cell_type": "code",
   "execution_count": 109,
   "metadata": {},
   "outputs": [
    {
     "name": "stdout",
     "output_type": "stream",
     "text": [
      "1\n"
     ]
    }
   ],
   "source": [
    "string='[20/Mar/2018 11:15:50] \"GET https://sys.mail.ru/media/badge/beidzh-myfriends-128x1281edh4aeo.png HTTP/1.1\" 404 1888'\n",
    "requesttype, request, protocol = get_params(string)\n",
    "if (re.search(r'\\.(\\w+)$', path)):\n",
    "    print(1)"
   ]
  },
  {
   "cell_type": "code",
   "execution_count": 4,
   "metadata": {
    "collapsed": true
   },
   "outputs": [],
   "source": [
    "file = open('log.log','r')\n",
    "text=file.readlines()\n",
    "file.close()"
   ]
  },
  {
   "cell_type": "code",
   "execution_count": 135,
   "metadata": {},
   "outputs": [
    {
     "name": "stdout",
     "output_type": "stream",
     "text": [
      "True /calendar/config/254/40263/\n",
      "True /calendar/config/254/40265/\n",
      "True /calendar/config/254/40267/\n",
      "True /calendar/config/254/40261/\n",
      "True /calendar/config/254/40255/\n",
      "True /calendar/config/254/40243/\n",
      "True /calendar/config/254/40253/\n",
      "True /calendar/config/254/40257/\n",
      "True /calendar/config/254/40247/\n",
      "True /calendar/config/254/40241/\n",
      "True /calendar/meeting/254/40265/\n",
      "True /stats/get_views_count_for_list/\n",
      "True /calendar/meeting/254/40267/\n",
      "True /calendar/meeting/254/40261/\n",
      "True /\n",
      "True /static/vendor/highlight.pack.js\n",
      "True /static/js/new_base_common.js\n",
      "True /calendar/config/254/40263/\n",
      "True /timeline/full/events/\n",
      "True /static/img/coin.svg\n",
      "True /media/uploads/10825-c432f58c90f141a7b9039af624eeb82c.gif\n",
      "True /get_random_advice/\n",
      "True /media/uploads/2453-ac55c51b32c54c9b9312a04a50f3d027.jpg\n",
      "True /media/uploads/2453-35825c54238f4fa995cacbdbdcd95807.jpg\n",
      "True /media/uploads/2453-f688a0b39d6d48c8b32691ea0029492f.jpg\n",
      "True /media/uploads/2453-460fcfa34ec54817a3815669acdad5d3.jpg\n",
      "True /media/uploads/2453-4ca96cc4e2a74522aeca28e245211153.png\n",
      "True /media/uploads/2453-2155c2bf622e4cb6a6214605f42d179a.jpg\n",
      "True /media/badge/beidzh-myfriends-128x1281edh4aeo.png\n",
      "True /media/covers/cover3347.png\n",
      "True /blog/\n",
      "True /static/js/publication.js\n",
      "True /static/vendor/jsrender-1.0.0.min.js\n",
      "True /static/calendar/css/calendar.css\n",
      "True /static/calendar/js/calendar.js\n",
      "True /notification_center/get_new/\n",
      "True /blog/fresh_comments/\n",
      "True /blog/active_blogs/\n",
      "True /blog/json/\n",
      "True /textchunk/blog_section_description/\n",
      "True /calendar/config/254/40263/\n",
      "True /blog/fresh_recommended/\n",
      "True /calendar/config/254/40267/\n",
      "True /calendar/config/254/40261/\n",
      "True /calendar/config/254/40265/\n",
      "True /calendar/config/254/40255/\n",
      "True /calendar/config/254/40253/\n",
      "True /calendar/config/254/40257/\n",
      "True /calendar/config/254/40247/\n",
      "True /calendar/config/254/40243/\n",
      "True /calendar/config/254/40241/\n",
      "True /media/uploads/6579-5bef795dfb3f4b198161e640124c71da.png\n",
      "True /media/blogs_logo/unnamed.png\n",
      "True /calendar/meeting/254/40267/\n",
      "True /calendar/meeting/254/40263/\n",
      "True /stats/get_views_count_for_list/\n",
      "True /calendar/meeting/254/40261/\n",
      "True /calendar/meeting/254/40253/\n",
      "True /calendar/meeting/254/40265/\n",
      "True /calendar/meeting/254/40257/\n",
      "True /calendar/meeting/254/40255/\n",
      "True /calendar/meeting/254/40247/\n",
      "True /media/uploads/6579-af5e97bec5ac4ae0b8caeccec92d884c.png\n",
      "True /calendar/meeting/254/40243/\n",
      "True /calendar/meeting/254/40241/\n",
      "True /media/uploads/4652-20a4998b645c473083af5b90d40db584.jpg\n",
      "True /media/uploads/12937-f8cfb5bad3db4fd1b8958cc34c65f8b5.jpg\n",
      "True /media/uploads/4652-9516c2bebdcc44aea119121d9af288fb.jpg\n",
      "True /media/uploads/4652-a372e385ff9c4e0aacd4dd9e83b18e94.jpg\n",
      "True /media/uploads/4652-6cc0c638d5644ac881726590937edd63.jpg\n",
      "True /media/uploads/2453-3a4911f7c9af46aba0f47b51ddf6fa2c.jpg\n",
      "True /media/uploads/2453-b306955b9e324ddc8f8920ab960b32e7.jpg\n",
      "True /media/uploads/12937-d2d44a46fc084ff5b782684f1eacdadb.jpg\n",
      "True /media/uploads/2453-35825c54238f4fa995cacbdbdcd95807.jpg\n",
      "True /media/uploads/2453-ac55c51b32c54c9b9312a04a50f3d027.jpg\n",
      "True /media/uploads/2453-4ca96cc4e2a74522aeca28e245211153.png\n",
      "True /media/uploads/2453-f688a0b39d6d48c8b32691ea0029492f.jpg\n",
      "True /media/uploads/9615-c66b366495ac45c38d2f2365850e7b51.jpg\n",
      "True /media/uploads/2453-2155c2bf622e4cb6a6214605f42d179a.jpg\n",
      "True /blog/fresh_recommended/\n",
      "True /media/uploads/2453-460fcfa34ec54817a3815669acdad5d3.jpg\n",
      "True /media/uploads/7477-e2e29ffbfb0445f881dba6726535ab76.gif\n",
      "True /media/uploads/9615-07a48743864e4113b8c07265bf1b687f.png\n",
      "True /media/blogs_logo/Bruce_3.png\n",
      "True /media/blogs_logo/marketing-png-1300.png\n",
      "True /calendar/config/254/40263/\n",
      "True /calendar/config/254/40265/\n",
      "True /calendar/config/254/40267/\n",
      "True /calendar/config/254/40261/\n",
      "True /calendar/config/254/40255/\n",
      "True /calendar/config/254/40243/\n",
      "True /calendar/config/254/40253/\n",
      "True /calendar/config/254/40257/\n",
      "True /calendar/config/254/40247/\n",
      "True /calendar/config/254/40241/\n",
      "True /calendar/meeting/254/40265/\n",
      "True /stats/get_views_count_for_list/\n",
      "True /calendar/meeting/254/40267/\n",
      "True /calendar/meeting/254/40261/\n"
     ]
    }
   ],
   "source": [
    "ignore_files=True\n",
    "ignore_urls=[]\n",
    "start_at=None\n",
    "stop_at=None\n",
    "request_type=None\n",
    "ignore_www=True\n",
    "slow_queries=False\n",
    "\n",
    "counts=collections.Counter()\n",
    "times=collections.Counter()\n",
    "def get_time(string):\n",
    "    try:\n",
    "        request_date=re.search(r'^\\[(?P<time>.*)\\]', string)\n",
    "        return datetime.datetime.strptime(request_date.group('time'), \"%d/%b/%Y %H:%M:%S\")\n",
    "    except:\n",
    "        return None\n",
    "def get_code_and_time(string):\n",
    "    result=re.search(r'(?P<response_code>\\d+) (?P<response_time>\\d+)$',string)\n",
    "    if result:\n",
    "        return result.groups()\n",
    "    else:\n",
    "        return (None,None)\n",
    "def get_params(string):\n",
    "    result=re.search(r'\"(\\w+) (.+) (.+)\"', string)\n",
    "    if result:\n",
    "        return result.groups()\n",
    "    else:\n",
    "        return (None,None,None)\n",
    "for string in text:\n",
    "    ignore=False\n",
    "    request_date=get_time(string)\n",
    "    response_code, response_time = get_code_and_time(string)\n",
    "\n",
    "    requesttype, request, protocol = get_params(string)\n",
    "    \n",
    "    if request:\n",
    "        scheme,host,path,query,fragment=re.search(r'(?P<scheme>\\w+)://(?P<host>[^/]*)(?P<path>[^?]+)*(?P<query>\\?[^#]+)*(?P<fragment>#\\w+)*',request).groups()\n",
    "        \n",
    "        if ignore_files:\n",
    "            if re.search(r'\\.(\\w+)$', path):\n",
    "                ignore=True\n",
    "                \n",
    "        \n",
    "        if request_type:\n",
    "            if request_type != requesttype:\n",
    "                ignore=True\n",
    "        if start_at:\n",
    "            if get_time(start_at)>request_date:\n",
    "                ignore = True\n",
    "        if stop_at:\n",
    "            if get_time(stop_at)<request_date:\n",
    "                ignore = True\n",
    "        for i in ignore_urls:\n",
    "            if i == path:\n",
    "                ignore=True\n",
    "                break\n",
    "        print(ingnore, path)\n",
    "        if ignore_www:\n",
    "            host=re.search(r'(www.)*(?P<without_www>.+)',host).group('without_www')\n",
    "    else:\n",
    "        ignore = True\n",
    "    if ignore == False:\n",
    "        \n",
    "        times[host+path]+=int(response_time)\n",
    "        counts[host+path]+=1\n",
    "for key,value in counts.items():\n",
    "    times[key]//=counts[key]\n",
    "if slow_queries:\n",
    "    [i[1] for i in times.most_common(5)]\n",
    "else:\n",
    "    [i[1] for i in counts.most_common(5)]"
   ]
  },
  {
   "cell_type": "code",
   "execution_count": 136,
   "metadata": {},
   "outputs": [
    {
     "data": {
      "text/plain": [
       "Counter({'sys.mail.ru/': 1,\n",
       "         'sys.mail.ru/blog/': 1,\n",
       "         'sys.mail.ru/blog/active_blogs/': 1,\n",
       "         'sys.mail.ru/blog/fresh_comments/': 1,\n",
       "         'sys.mail.ru/blog/fresh_recommended/': 2,\n",
       "         'sys.mail.ru/blog/json/': 1,\n",
       "         'sys.mail.ru/calendar/config/254/40241/': 3,\n",
       "         'sys.mail.ru/calendar/config/254/40243/': 3,\n",
       "         'sys.mail.ru/calendar/config/254/40247/': 3,\n",
       "         'sys.mail.ru/calendar/config/254/40253/': 3,\n",
       "         'sys.mail.ru/calendar/config/254/40255/': 3,\n",
       "         'sys.mail.ru/calendar/config/254/40257/': 3,\n",
       "         'sys.mail.ru/calendar/config/254/40261/': 3,\n",
       "         'sys.mail.ru/calendar/config/254/40263/': 4,\n",
       "         'sys.mail.ru/calendar/config/254/40265/': 3,\n",
       "         'sys.mail.ru/calendar/config/254/40267/': 3,\n",
       "         'sys.mail.ru/calendar/meeting/254/40241/': 1,\n",
       "         'sys.mail.ru/calendar/meeting/254/40243/': 1,\n",
       "         'sys.mail.ru/calendar/meeting/254/40247/': 1,\n",
       "         'sys.mail.ru/calendar/meeting/254/40253/': 1,\n",
       "         'sys.mail.ru/calendar/meeting/254/40255/': 1,\n",
       "         'sys.mail.ru/calendar/meeting/254/40257/': 1,\n",
       "         'sys.mail.ru/calendar/meeting/254/40261/': 3,\n",
       "         'sys.mail.ru/calendar/meeting/254/40263/': 1,\n",
       "         'sys.mail.ru/calendar/meeting/254/40265/': 3,\n",
       "         'sys.mail.ru/calendar/meeting/254/40267/': 3,\n",
       "         'sys.mail.ru/get_random_advice/': 1,\n",
       "         'sys.mail.ru/notification_center/get_new/': 1,\n",
       "         'sys.mail.ru/stats/get_views_count_for_list/': 3,\n",
       "         'sys.mail.ru/textchunk/blog_section_description/': 1,\n",
       "         'sys.mail.ru/timeline/full/events/': 1})"
      ]
     },
     "execution_count": 136,
     "metadata": {},
     "output_type": "execute_result"
    }
   ],
   "source": [
    "counts"
   ]
  },
  {
   "cell_type": "code",
   "execution_count": 157,
   "metadata": {},
   "outputs": [
    {
     "data": {
      "text/plain": [
       "Counter()"
      ]
     },
     "execution_count": 157,
     "metadata": {},
     "output_type": "execute_result"
    }
   ],
   "source": [
    "datetime.datetime.strptime"
   ]
  },
  {
   "cell_type": "code",
   "execution_count": 124,
   "metadata": {
    "collapsed": true
   },
   "outputs": [],
   "source": [
    "a=[1]"
   ]
  },
  {
   "cell_type": "code",
   "execution_count": 131,
   "metadata": {},
   "outputs": [
    {
     "ename": "TypeError",
     "evalue": "__init__() missing 1 required positional argument: 'mapping'",
     "output_type": "error",
     "traceback": [
      "\u001b[1;31m---------------------------------------------------------------------------\u001b[0m",
      "\u001b[1;31mTypeError\u001b[0m                                 Traceback (most recent call last)",
      "\u001b[1;32m<ipython-input-131-93f9a78b5155>\u001b[0m in \u001b[0;36m<module>\u001b[1;34m()\u001b[0m\n\u001b[1;32m----> 1\u001b[1;33m \u001b[0mcollections\u001b[0m\u001b[1;33m.\u001b[0m\u001b[0mabc\u001b[0m\u001b[1;33m.\u001b[0m\u001b[0mMappingView\u001b[0m\u001b[1;33m(\u001b[0m\u001b[1;33m)\u001b[0m\u001b[1;33m\u001b[0m\u001b[0m\n\u001b[0m",
      "\u001b[1;31mTypeError\u001b[0m: __init__() missing 1 required positional argument: 'mapping'"
     ]
    }
   ],
   "source": [
    "collections.abc.MappingView()"
   ]
  },
  {
   "cell_type": "code",
   "execution_count": 130,
   "metadata": {},
   "outputs": [
    {
     "data": {
      "text/plain": [
       "[1, 1, 1, 1]"
      ]
     },
     "execution_count": 130,
     "metadata": {},
     "output_type": "execute_result"
    }
   ],
   "source": [
    "a"
   ]
  },
  {
   "cell_type": "code",
   "execution_count": 114,
   "metadata": {
    "collapsed": true
   },
   "outputs": [],
   "source": [
    "a=collections.UserList([1,2])"
   ]
  },
  {
   "cell_type": "code",
   "execution_count": null,
   "metadata": {
    "collapsed": true
   },
   "outputs": [],
   "source": [
    "a."
   ]
  },
  {
   "cell_type": "code",
   "execution_count": null,
   "metadata": {
    "collapsed": true
   },
   "outputs": [],
   "source": []
  }
 ],
 "metadata": {
  "kernelspec": {
   "display_name": "Python 3",
   "language": "python",
   "name": "python3"
  },
  "language_info": {
   "codemirror_mode": {
    "name": "ipython",
    "version": 3
   },
   "file_extension": ".py",
   "mimetype": "text/x-python",
   "name": "python",
   "nbconvert_exporter": "python",
   "pygments_lexer": "ipython3",
   "version": "3.6.1"
  }
 },
 "nbformat": 4,
 "nbformat_minor": 2
}
