{
 "cells": [
  {
   "cell_type": "code",
   "execution_count": 1,
   "metadata": {
    "collapsed": true
   },
   "outputs": [],
   "source": [
    "# -*- encoding: utf-8 -*-\n",
    "import collections\n",
    "import re\n",
    "import datetime\n",
    "def parse(\n",
    "    ignore_files=False,\n",
    "    ignore_urls=[],\n",
    "    start_at=None,\n",
    "    stop_at=None,\n",
    "    request_type=None,\n",
    "    ignore_www=False,\n",
    "    slow_queries=False\n",
    "):\n",
    "\n",
    "    counts=collections.Counter()\n",
    "    times=collections.Counter()\n",
    "    def get_time(string):\n",
    "        request_date=re.search(r'(?P<day>\\d+)/(?P<month>\\w+)/(?P<year>\\d+) (?P<hour>\\d+):(?P<minute>\\d+):(?P<second>\\d+)',string)\n",
    "        if request_date:\n",
    "            request_date=datetime.datetime(int(request_date.group('year')),months[request_date.group('month')],int(request_date.group('day')),int(request_date.group('hour')),\n",
    "                                 int(request_date.group('minute')),int(request_date.group('second')))\n",
    "            return request_date\n",
    "        else:\n",
    "            return None\n",
    "    def get_code_and_time(string):\n",
    "        result=re.search(r'(?P<response_code>\\d+) (?P<response_time>\\d+)$',string)\n",
    "        if result:\n",
    "            return result.groups()\n",
    "        else:\n",
    "            return (None,None)\n",
    "    def get_params(string):\n",
    "        result=re.search(r'\"(\\w+) (.+) (.+)\"', string)\n",
    "        if result:\n",
    "            return result.groups()\n",
    "        else:\n",
    "            return (None,None,None)\n",
    "    for string in text:\n",
    "        ignore=False\n",
    "        request_date=get_time(string)\n",
    "        response_code, response_time = get_code_and_time(string)\n",
    "\n",
    "        requesttype, request, protocol = get_params(string)\n",
    "\n",
    "        if request:\n",
    "            scheme,host,path,query,fragment=re.search(r'(?P<scheme>\\w+)://(?P<host>[^/]*)(?P<path>[^?]+)*(?P<query>\\?[^#]+)*(?P<fragment>#\\w+)*',request).groups()\n",
    "            if ignore_files:\n",
    "                if '.' in path:\n",
    "                    ingnore=True\n",
    "            if request_type:\n",
    "                if request_type != requesttype:\n",
    "                    ignore=True\n",
    "            if start_at:\n",
    "                if get_time(start_at)>request_date:\n",
    "                    ignore = True\n",
    "            if stop_at:\n",
    "                if get_time(stop_at)<request_date:\n",
    "                    ignore = True\n",
    "            for i in ignore_urls:\n",
    "                if i == path:\n",
    "                    ignore=True\n",
    "                    break\n",
    "            if ignore_www:\n",
    "                host=re.search(r'www.(.+)',host).group(0)\n",
    "        else:\n",
    "            ignore = True\n",
    "        if not ignore:\n",
    "            times[host+path]+=int(response_time)\n",
    "            counts[host+path]+=1\n",
    "    for key,value in counts.items():\n",
    "        times[key]//=counts[key]\n",
    "    if slow_queries:\n",
    "        return [i[1] for i in times.most_common(5)]\n",
    "    else:\n",
    "        return [i[1] for i in counts.most_common(5)]"
   ]
  },
  {
   "cell_type": "code",
   "execution_count": 2,
   "metadata": {
    "collapsed": true
   },
   "outputs": [],
   "source": [
    "string='[18/Mar/2018 11:19:40] \"GET https://www.sys.mail.ru/calendar/config/254/40263/ HTTP/1.1\" 200 965'"
   ]
  },
  {
   "cell_type": "code",
   "execution_count": 3,
   "metadata": {
    "collapsed": true
   },
   "outputs": [],
   "source": [
    "months={\"Jan\":1,\"Feb\":2,'Mar':3,\"Apr\":4,'May':5,'Jun':6,'Jul':7,'Aug':8,\"Sep\":9,\"Oct\":10,'Nov':11,'Dec':12}"
   ]
  },
  {
   "cell_type": "code",
   "execution_count": null,
   "metadata": {},
   "outputs": [],
   "source": []
  },
  {
   "cell_type": "code",
   "execution_count": 4,
   "metadata": {},
   "outputs": [
    {
     "ename": "ValueError",
     "evalue": "month must be in 1..12",
     "output_type": "error",
     "traceback": [
      "\u001b[1;31m---------------------------------------------------------------------------\u001b[0m",
      "\u001b[1;31mValueError\u001b[0m                                Traceback (most recent call last)",
      "\u001b[1;32m<ipython-input-4-3342e94c4b1d>\u001b[0m in \u001b[0;36m<module>\u001b[1;34m()\u001b[0m\n\u001b[1;32m----> 1\u001b[1;33m \u001b[0mdatetime\u001b[0m\u001b[1;33m.\u001b[0m\u001b[0mdatetime\u001b[0m\u001b[1;33m(\u001b[0m\u001b[1;36m2018\u001b[0m\u001b[1;33m,\u001b[0m\u001b[1;36m0\u001b[0m\u001b[1;33m,\u001b[0m\u001b[1;36m18\u001b[0m\u001b[1;33m,\u001b[0m\u001b[1;36m11\u001b[0m\u001b[1;33m,\u001b[0m\u001b[1;36m19\u001b[0m\u001b[1;33m,\u001b[0m\u001b[1;36m40\u001b[0m\u001b[1;33m)\u001b[0m\u001b[1;33m>=\u001b[0m\u001b[0mdatetime\u001b[0m\u001b[1;33m.\u001b[0m\u001b[0mdatetime\u001b[0m\u001b[1;33m(\u001b[0m\u001b[1;36m2018\u001b[0m\u001b[1;33m,\u001b[0m\u001b[1;36m3\u001b[0m\u001b[1;33m,\u001b[0m\u001b[1;36m18\u001b[0m\u001b[1;33m,\u001b[0m\u001b[1;36m11\u001b[0m\u001b[1;33m,\u001b[0m\u001b[1;36m19\u001b[0m\u001b[1;33m,\u001b[0m\u001b[1;36m41\u001b[0m\u001b[1;33m)\u001b[0m\u001b[1;33m\u001b[0m\u001b[0m\n\u001b[0m",
      "\u001b[1;31mValueError\u001b[0m: month must be in 1..12"
     ]
    }
   ],
   "source": [
    "datetime.datetime(2018,0,18,11,19,40)>=datetime.datetime(2018,3,18,11,19,41)"
   ]
  },
  {
   "cell_type": "code",
   "execution_count": 161,
   "metadata": {},
   "outputs": [
    {
     "data": {
      "text/plain": [
       "('200', '965')"
      ]
     },
     "execution_count": 161,
     "metadata": {},
     "output_type": "execute_result"
    }
   ],
   "source": [
    "a=re.search(r'(?P<response_code>\\d+) (?P<response_time>\\d+)$',string)\n",
    "a.groups()"
   ]
  },
  {
   "cell_type": "code",
   "execution_count": 149,
   "metadata": {},
   "outputs": [
    {
     "data": {
      "text/plain": [
       "()"
      ]
     },
     "execution_count": 149,
     "metadata": {},
     "output_type": "execute_result"
    }
   ],
   "source": []
  },
  {
   "cell_type": "code",
   "execution_count": 143,
   "metadata": {},
   "outputs": [
    {
     "data": {
      "text/plain": [
       "'#dsa'"
      ]
     },
     "execution_count": 143,
     "metadata": {},
     "output_type": "execute_result"
    }
   ],
   "source": [
    "a.group('fragment')"
   ]
  },
  {
   "cell_type": "code",
   "execution_count": 25,
   "metadata": {},
   "outputs": [],
   "source": [
    "string='[20/Mar/2018 11:15:46] \"GET https://www.sys.mail.ru/static/js/new_base_common.js?v=3.73.74 HTTP/1.1\" 200 42979'"
   ]
  },
  {
   "cell_type": "code",
   "execution_count": 169,
   "metadata": {
    "collapsed": true
   },
   "outputs": [],
   "source": [
    "file = open('log.log','r')\n",
    "text=file.readlines()\n",
    "file.close()"
   ]
  },
  {
   "cell_type": "code",
   "execution_count": 187,
   "metadata": {},
   "outputs": [
    {
     "ename": "SyntaxError",
     "evalue": "'return' outside function (<ipython-input-187-0bbc61d07c7b>, line 66)",
     "output_type": "error",
     "traceback": [
      "\u001b[1;36m  File \u001b[1;32m\"<ipython-input-187-0bbc61d07c7b>\"\u001b[1;36m, line \u001b[1;32m66\u001b[0m\n\u001b[1;33m    return [i[1] for i in times.most_common(5)]\u001b[0m\n\u001b[1;37m    ^\u001b[0m\n\u001b[1;31mSyntaxError\u001b[0m\u001b[1;31m:\u001b[0m 'return' outside function\n"
     ]
    }
   ],
   "source": [
    "ignore_files=False\n",
    "ignore_urls=[]\n",
    "start_at=None\n",
    "stop_at=None\n",
    "request_type=None\n",
    "ignore_www=True\n",
    "slow_queries=False\n",
    "\n",
    "counts=collections.Counter()\n",
    "times=collections.Counter()\n",
    "def get_time(string):\n",
    "    request_date=re.search(r'(?P<day>\\d+)/(?P<month>\\w+)/(?P<year>\\d+) (?P<hour>\\d+):(?P<minute>\\d+):(?P<second>\\d+)',string)\n",
    "    if request_date:\n",
    "        request_date=datetime.datetime(int(request_date.group('year')),months[request_date.group('month')],int(request_date.group('day')),int(request_date.group('hour')),\n",
    "                             int(request_date.group('minute')),int(request_date.group('second')))\n",
    "        return request_date\n",
    "    else:\n",
    "        return None\n",
    "def get_code_and_time(string):\n",
    "    result=re.search(r'(?P<response_code>\\d+) (?P<response_time>\\d+)$',string)\n",
    "    if result:\n",
    "        return result.groups()\n",
    "    else:\n",
    "        return (None,None)\n",
    "def get_params(string):\n",
    "    result=re.search(r'\"(\\w+) (.+) (.+)\"', string)\n",
    "    if result:\n",
    "        return result.groups()\n",
    "    else:\n",
    "        return (None,None,None)\n",
    "for string in text:\n",
    "    ignore=False\n",
    "    request_date=get_time(string)\n",
    "    response_code, response_time = get_code_and_time(string)\n",
    "\n",
    "    requesttype, request, protocol = get_params(string)\n",
    "\n",
    "    if request:\n",
    "        scheme,host,path,query,fragment=re.search(r'(?P<scheme>\\w+)://(?P<host>[^/]*)(?P<path>[^?]+)*(?P<query>\\?[^#]+)*(?P<fragment>#\\w+)*',request).groups()\n",
    "        if ignore_files:\n",
    "            if '.' in path:\n",
    "                ingnore=True\n",
    "        if request_type:\n",
    "            if request_type != requesttype:\n",
    "                ignore=True\n",
    "        if start_at:\n",
    "            if get_time(start_at)>request_date:\n",
    "                ignore = True\n",
    "        if stop_at:\n",
    "            if get_time(stop_at)<request_date:\n",
    "                ignore = True\n",
    "        for i in ignore_urls:\n",
    "            if i == path:\n",
    "                ignore=True\n",
    "                break\n",
    "        if ignore_www:\n",
    "            host=re.search(r'(www.)*(?P<without_www>.+)',host).group('without_www')\n",
    "    else:\n",
    "        ignore = True\n",
    "    if not ignore:\n",
    "        times[host+path]+=int(response_time)\n",
    "        counts[host+path]+=1\n",
    "for key,value in counts.items():\n",
    "    times[key]//=counts[key]\n",
    "if slow_queries:\n",
    "    return [i[1] for i in times.most_common(5)]\n",
    "else:\n",
    "    return [i[1] for i in counts.most_common(5)]"
   ]
  },
  {
   "cell_type": "code",
   "execution_count": 186,
   "metadata": {},
   "outputs": [
    {
     "data": {
      "text/plain": [
       "(None, 'sys.mail.ru')"
      ]
     },
     "execution_count": 186,
     "metadata": {},
     "output_type": "execute_result"
    }
   ],
   "source": [
    "re.search(r'(www.)*(.+)',host).groups()"
   ]
  },
  {
   "cell_type": "code",
   "execution_count": 157,
   "metadata": {},
   "outputs": [
    {
     "data": {
      "text/plain": [
       "Counter()"
      ]
     },
     "execution_count": 157,
     "metadata": {},
     "output_type": "execute_result"
    }
   ],
   "source": [
    "counts"
   ]
  },
  {
   "cell_type": "code",
   "execution_count": 124,
   "metadata": {},
   "outputs": [],
   "source": [
    "a=[1]"
   ]
  },
  {
   "cell_type": "code",
   "execution_count": 131,
   "metadata": {},
   "outputs": [
    {
     "ename": "TypeError",
     "evalue": "__init__() missing 1 required positional argument: 'mapping'",
     "output_type": "error",
     "traceback": [
      "\u001b[1;31m---------------------------------------------------------------------------\u001b[0m",
      "\u001b[1;31mTypeError\u001b[0m                                 Traceback (most recent call last)",
      "\u001b[1;32m<ipython-input-131-93f9a78b5155>\u001b[0m in \u001b[0;36m<module>\u001b[1;34m()\u001b[0m\n\u001b[1;32m----> 1\u001b[1;33m \u001b[0mcollections\u001b[0m\u001b[1;33m.\u001b[0m\u001b[0mabc\u001b[0m\u001b[1;33m.\u001b[0m\u001b[0mMappingView\u001b[0m\u001b[1;33m(\u001b[0m\u001b[1;33m)\u001b[0m\u001b[1;33m\u001b[0m\u001b[0m\n\u001b[0m",
      "\u001b[1;31mTypeError\u001b[0m: __init__() missing 1 required positional argument: 'mapping'"
     ]
    }
   ],
   "source": [
    "collections.abc.MappingView()"
   ]
  },
  {
   "cell_type": "code",
   "execution_count": 130,
   "metadata": {},
   "outputs": [
    {
     "data": {
      "text/plain": [
       "[1, 1, 1, 1]"
      ]
     },
     "execution_count": 130,
     "metadata": {},
     "output_type": "execute_result"
    }
   ],
   "source": [
    "a"
   ]
  },
  {
   "cell_type": "code",
   "execution_count": 114,
   "metadata": {},
   "outputs": [],
   "source": [
    "a=collections.UserList([1,2])"
   ]
  },
  {
   "cell_type": "code",
   "execution_count": null,
   "metadata": {
    "collapsed": true
   },
   "outputs": [],
   "source": [
    "a."
   ]
  },
  {
   "cell_type": "code",
   "execution_count": null,
   "metadata": {
    "collapsed": true
   },
   "outputs": [],
   "source": []
  }
 ],
 "metadata": {
  "kernelspec": {
   "display_name": "Python 3",
   "language": "python",
   "name": "python3"
  },
  "language_info": {
   "codemirror_mode": {
    "name": "ipython",
    "version": 3
   },
   "file_extension": ".py",
   "mimetype": "text/x-python",
   "name": "python",
   "nbconvert_exporter": "python",
   "pygments_lexer": "ipython3",
   "version": "3.6.1"
  }
 },
 "nbformat": 4,
 "nbformat_minor": 2
}
