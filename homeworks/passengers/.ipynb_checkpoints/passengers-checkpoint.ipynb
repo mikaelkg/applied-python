{
 "cells": [
  {
   "cell_type": "code",
   "execution_count": null,
   "metadata": {
    "collapsed": true
   },
   "outputs": [],
   "source": [
    "# -*- encoding: utf-8 -*-\n",
    "def find_passenger(passenger,data):\n",
    "    for num_train,train in enumerate(data):\n",
    "        for num_car,car in enumerate(train['cars']):\n",
    "            if passenger in car['people']:\n",
    "                return [num_train,num_car]\n",
    "\n",
    "def process(data, events, car):\n",
    "    for event in events:\n",
    "        if event['type']=='walk':\n",
    "            passenger=event[\"passenger\"]\n",
    "            train,car=find_passenger(passenger,data)\n",
    "            data[train][car].remove(passenger)\n",
    "            move=event[\"distance\"]+car\n",
    "            data[train][move].append(passenger)\n",
    "    for train in data:\n",
    "        print(train['name'])\n",
    "        for car in train['cars']:\n",
    "            print('\\t{}'.format(car['name']))\n",
    "            for man in car['people']:\n",
    "                print('\\t\\t{}'.format(man))"
   ]
  },
  {
   "cell_type": "code",
   "execution_count": 9,
   "metadata": {},
   "outputs": [],
   "source": [
    "a={'a':[1,2]}"
   ]
  },
  {
   "cell_type": "code",
   "execution_count": 10,
   "metadata": {},
   "outputs": [],
   "source": [
    "a['a'].remove(2)"
   ]
  },
  {
   "cell_type": "code",
   "execution_count": 11,
   "metadata": {},
   "outputs": [
    {
     "data": {
      "text/plain": [
       "{'a': [1]}"
      ]
     },
     "execution_count": 11,
     "metadata": {},
     "output_type": "execute_result"
    }
   ],
   "source": [
    "a"
   ]
  },
  {
   "cell_type": "code",
   "execution_count": null,
   "metadata": {
    "collapsed": true
   },
   "outputs": [],
   "source": []
  }
 ],
 "metadata": {
  "kernelspec": {
   "display_name": "Python 3",
   "language": "python",
   "name": "python3"
  },
  "language_info": {
   "codemirror_mode": {
    "name": "ipython",
    "version": 3
   },
   "file_extension": ".py",
   "mimetype": "text/x-python",
   "name": "python",
   "nbconvert_exporter": "python",
   "pygments_lexer": "ipython3",
   "version": "3.6.1"
  }
 },
 "nbformat": 4,
 "nbformat_minor": 2
}
