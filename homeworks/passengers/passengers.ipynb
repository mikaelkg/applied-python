{
 "cells": [
  {
   "cell_type": "code",
   "execution_count": 10,
   "metadata": {
    "collapsed": true
   },
   "outputs": [],
   "source": [
    "# -*- encoding: utf-8 -*-\n",
    "\n",
    "\n",
    "def process(data, events, car):\n",
    "    \n",
    "    def find_passenger(passenger,data):\n",
    "        for num_train,train in enumerate(data):\n",
    "            for num_car,car in enumerate(train['cars']):\n",
    "                if passenger in car['people']:\n",
    "                    return [num_train,num_car]\n",
    "        else:\n",
    "            return [None,None]\n",
    "\n",
    "    def find_train(train_name,data):\n",
    "        for num_train,train in enumerate(data):\n",
    "            if train['name']==train_name:\n",
    "                return num_train\n",
    "\n",
    "    def detach_cars(count,data,train_from):\n",
    "        detached_cars=[]\n",
    "        for i in range(count):\n",
    "            detached_cars.append(data[train_from]['cars'].pop())\n",
    "        return detached_cars[::-1]\n",
    "\n",
    "    def attach_cars(cars,data,train_to):\n",
    "        for car in cars:\n",
    "            data[train_to]['cars'].append(car)\n",
    "            \n",
    "    def count_in_car(car_name,data):\n",
    "        for train in data:\n",
    "            for car in train['cars']:\n",
    "                if car['name']==car_name:\n",
    "                    return len(car['people'])\n",
    "    for event in events:\n",
    "        if event['type']=='walk':\n",
    "            passenger=event[\"passenger\"]\n",
    "            train_num,car_num=find_passenger(passenger,data)\n",
    "            if train_num==None:\n",
    "                return -1\n",
    "            data[train_num]['cars'][car_num]['people'].remove(passenger)\n",
    "            move=event[\"distance\"]+car_num\n",
    "            if move<0 or move>=len(data[train_num]['cars']):\n",
    "                return -1\n",
    "            data[train_num]['cars'][move]['people'].append(passenger)\n",
    "\n",
    "        elif event['type']=='switch':\n",
    "            count=event['cars']\n",
    "            train_from=find_train(event['train_from'],data)\n",
    "            train_to=find_train(event['train_to'],data)\n",
    "            if train_from==None or train_to==None:\n",
    "                return -1\n",
    "            elif len(data[train_from]['cars'])<count:\n",
    "                return -1\n",
    "            detached_cars=detach_cars(count,data,train_from)\n",
    "            attach_cars(detached_cars,data,train_to)\n",
    "  \n",
    "    return count_in_car(car,data)"
   ]
  },
  {
   "cell_type": "code",
   "execution_count": 8,
   "metadata": {
    "collapsed": true
   },
   "outputs": [],
   "source": [
    "data={  \n",
    "   \"result\":{  \n",
    "      \"car\":\"c1\",\n",
    "      \"amount\":3\n",
    "   },\n",
    "   \"events\":[  \n",
    "      {  \n",
    "         \"passenger\":\"Alex\",\n",
    "         \"type\":\"walk\",\n",
    "         \"distance\":1\n",
    "      },\n",
    "      {  \n",
    "         \"passenger\":\"Bob\",\n",
    "         \"type\":\"walk\",\n",
    "         \"distance\":-1\n",
    "      },\n",
    "      {  \n",
    "         \"cars\":1,\n",
    "         \"train_from\":\"A\",\n",
    "         \"type\":\"switch\",\n",
    "         \"train_to\":\"B\"\n",
    "      },\n",
    "      {  \n",
    "         \"passenger\":\"Alex\",\n",
    "         \"type\":\"walk\",\n",
    "         \"distance\":-1\n",
    "      },\n",
    "      {  \n",
    "         \"cars\":2,\n",
    "         \"train_from\":\"B\",\n",
    "         \"type\":\"switch\",\n",
    "         \"train_to\":\"A\"\n",
    "      },\n",
    "      {  \n",
    "         \"passenger\":\"Alex\",\n",
    "         \"type\":\"walk\",\n",
    "         \"distance\":-1\n",
    "      }\n",
    "   ],\n",
    "   \"trains\":[  \n",
    "      {  \n",
    "         \"cars\":[  \n",
    "            {  \n",
    "               \"name\":\"c1\",\n",
    "               \"people\":[  \n",
    "                  \"Alex\",\n",
    "                  \"Alice\"\n",
    "               ]\n",
    "            },\n",
    "            {  \n",
    "               \"name\":\"c2\",\n",
    "               \"people\":[  \n",
    "                  \"Bob\"\n",
    "               ]\n",
    "            }\n",
    "         ],\n",
    "         \"name\":\"A\"\n",
    "      },\n",
    "      {  \n",
    "         \"cars\":[  \n",
    "            {  \n",
    "               \"name\":\"c3\",\n",
    "               \"people\":[  \n",
    "\n",
    "               ]\n",
    "            }\n",
    "         ],\n",
    "         \"name\":\"B\"\n",
    "      }\n",
    "   ]\n",
    "}\n"
   ]
  },
  {
   "cell_type": "code",
   "execution_count": 9,
   "metadata": {},
   "outputs": [
    {
     "data": {
      "text/plain": [
       "2"
      ]
     },
     "execution_count": 9,
     "metadata": {},
     "output_type": "execute_result"
    }
   ],
   "source": [
    "trains, events, result = data['trains'], data['events'], data['result']\n",
    "process(trains, events, result['car'])"
   ]
  },
  {
   "cell_type": "code",
   "execution_count": null,
   "metadata": {
    "collapsed": true
   },
   "outputs": [],
   "source": []
  },
  {
   "cell_type": "code",
   "execution_count": 12,
   "metadata": {
    "collapsed": true
   },
   "outputs": [],
   "source": [
    "def detach_cars(count,data,train_from):\n",
    "    detached_cars=[]\n",
    "    for i in range(count):\n",
    "        detached_cars.append(data[train_from]['cars'].pop())\n",
    "    return detached_cars"
   ]
  },
  {
   "cell_type": "code",
   "execution_count": 71,
   "metadata": {
    "collapsed": true
   },
   "outputs": [],
   "source": [
    "def count_in_car(car_name,data):\n",
    "    for train in data:\n",
    "        for car in train['cars']:\n",
    "            print(car)\n",
    "            if car['name']==car_name:\n",
    "                return len(car['people'])"
   ]
  },
  {
   "cell_type": "code",
   "execution_count": 79,
   "metadata": {},
   "outputs": [
    {
     "ename": "TypeError",
     "evalue": "'NoneType' object is not iterable",
     "output_type": "error",
     "traceback": [
      "\u001b[1;31m---------------------------------------------------------------------------\u001b[0m",
      "\u001b[1;31mTypeError\u001b[0m                                 Traceback (most recent call last)",
      "\u001b[1;32m<ipython-input-79-ba81473c71c5>\u001b[0m in \u001b[0;36m<module>\u001b[1;34m()\u001b[0m\n\u001b[1;32m----> 1\u001b[1;33m \u001b[1;33m[\u001b[0m\u001b[0ma\u001b[0m\u001b[1;33m,\u001b[0m\u001b[0mb\u001b[0m\u001b[1;33m]\u001b[0m\u001b[1;33m=\u001b[0m\u001b[1;32mNone\u001b[0m\u001b[1;33m\u001b[0m\u001b[0m\n\u001b[0m",
      "\u001b[1;31mTypeError\u001b[0m: 'NoneType' object is not iterable"
     ]
    }
   ],
   "source": [
    "[a,b]=None"
   ]
  },
  {
   "cell_type": "code",
   "execution_count": null,
   "metadata": {
    "collapsed": true
   },
   "outputs": [],
   "source": []
  }
 ],
 "metadata": {
  "kernelspec": {
   "display_name": "Python 3",
   "language": "python",
   "name": "python3"
  },
  "language_info": {
   "codemirror_mode": {
    "name": "ipython",
    "version": 3
   },
   "file_extension": ".py",
   "mimetype": "text/x-python",
   "name": "python",
   "nbconvert_exporter": "python",
   "pygments_lexer": "ipython3",
   "version": "3.6.1"
  }
 },
 "nbformat": 4,
 "nbformat_minor": 2
}
